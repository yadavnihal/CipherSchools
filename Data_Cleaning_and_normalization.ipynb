{
  "nbformat": 4,
  "nbformat_minor": 0,
  "metadata": {
    "colab": {
      "provenance": []
    },
    "kernelspec": {
      "name": "python3",
      "display_name": "Python 3"
    },
    "language_info": {
      "name": "python"
    }
  },
  "cells": [
    {
      "cell_type": "code",
      "execution_count": 26,
      "metadata": {
        "colab": {
          "base_uri": "https://localhost:8080/"
        },
        "id": "Xc-RU2OBktR0",
        "outputId": "1178abcf-7a6e-49d0-b483-214a32b8ae9d"
      },
      "outputs": [
        {
          "output_type": "stream",
          "name": "stdout",
          "text": [
            "              Name   Age   Salary        Department\n",
            "0      Alice Smith  28.0  60000.0       Engineering\n",
            "1      Bob Johnson  75.0  65000.0         Marketing\n",
            "2    Charlie Brown  45.0  90000.0   Human Resources\n",
            "3     Diana Prince   NaN  65000.0           Finance\n",
            "4     Edward Elric  27.0      NaN          Research\n",
            "5              NaN  40.0  85000.0                IT\n",
            "6  George O'Malley  38.0  70000.0                IT\n",
            "7     hannah baker  30.0  62000.0  Customer Support\n",
            "8      ian malcolm  50.0  95000.0             Legal\n",
            "9    Jessica Jones  33.0  67000.0    administration\n"
          ]
        }
      ],
      "source": [
        "import pandas as pd\n",
        "\n",
        "df=pd.read_csv(\"uncleaned_sample_data.csv\")\n",
        "df=pd.DataFrame(df)\n",
        "print(df)"
      ]
    },
    {
      "cell_type": "code",
      "source": [
        "# checking the missing values in the dataset\n",
        "print(df.isnull().sum())"
      ],
      "metadata": {
        "colab": {
          "base_uri": "https://localhost:8080/"
        },
        "id": "6yOA9cMTpUmz",
        "outputId": "231cb7a5-1fe9-43c0-869c-e47884b46a4b"
      },
      "execution_count": 12,
      "outputs": [
        {
          "output_type": "stream",
          "name": "stdout",
          "text": [
            "Name          1\n",
            "Age           1\n",
            "Salary        1\n",
            "Department    0\n",
            "dtype: int64\n"
          ]
        }
      ]
    },
    {
      "cell_type": "code",
      "source": [
        "df.info()"
      ],
      "metadata": {
        "colab": {
          "base_uri": "https://localhost:8080/"
        },
        "id": "I-E8ALB8pnED",
        "outputId": "ab4140b5-fac7-4e87-8da7-79d02b1fb284"
      },
      "execution_count": 13,
      "outputs": [
        {
          "output_type": "stream",
          "name": "stdout",
          "text": [
            "<class 'pandas.core.frame.DataFrame'>\n",
            "RangeIndex: 10 entries, 0 to 9\n",
            "Data columns (total 4 columns):\n",
            " #   Column      Non-Null Count  Dtype  \n",
            "---  ------      --------------  -----  \n",
            " 0   Name        9 non-null      object \n",
            " 1   Age         9 non-null      float64\n",
            " 2   Salary      9 non-null      float64\n",
            " 3   Department  10 non-null     object \n",
            "dtypes: float64(2), object(2)\n",
            "memory usage: 448.0+ bytes\n"
          ]
        }
      ]
    },
    {
      "cell_type": "code",
      "source": [
        "# removing the rows which have missing values\n",
        "df_cleaned=df.dropna()\n",
        "print(df_cleaned)"
      ],
      "metadata": {
        "colab": {
          "base_uri": "https://localhost:8080/"
        },
        "id": "QFhtysNeqrMw",
        "outputId": "581a9ac8-44e6-4487-aa2c-bc917bb5c761"
      },
      "execution_count": 14,
      "outputs": [
        {
          "output_type": "stream",
          "name": "stdout",
          "text": [
            "              Name   Age   Salary        Department\n",
            "0      Alice Smith  28.0  60000.0       Engineering\n",
            "1      Bob Johnson  75.0  65000.0         Marketing\n",
            "2    Charlie Brown  45.0  90000.0   Human Resources\n",
            "6  George O'Malley  38.0  70000.0                IT\n",
            "7     hannah baker  30.0  62000.0  Customer Support\n",
            "8      ian malcolm  50.0  95000.0             Legal\n",
            "9    Jessica Jones  33.0  67000.0    administration\n"
          ]
        }
      ]
    },
    {
      "cell_type": "code",
      "source": [
        "# filling the missing values\n",
        "df_filled=df.fillna({\n",
        "    \"Age\":df[\"Age\"].mean(),\n",
        "    \"Salary\":df[\"Salary\"].mean()\n",
        "})\n",
        "print(df_filled)"
      ],
      "metadata": {
        "colab": {
          "base_uri": "https://localhost:8080/"
        },
        "id": "OMprGJ7vsAcH",
        "outputId": "9f4be070-ed56-4a2e-ee50-bc9d5d5e36cf"
      },
      "execution_count": 15,
      "outputs": [
        {
          "output_type": "stream",
          "name": "stdout",
          "text": [
            "              Name        Age        Salary        Department\n",
            "0      Alice Smith  28.000000  60000.000000       Engineering\n",
            "1      Bob Johnson  75.000000  65000.000000         Marketing\n",
            "2    Charlie Brown  45.000000  90000.000000   Human Resources\n",
            "3     Diana Prince  40.666667  65000.000000           Finance\n",
            "4     Edward Elric  27.000000  73222.222222          Research\n",
            "5              NaN  40.000000  85000.000000                IT\n",
            "6  George O'Malley  38.000000  70000.000000                IT\n",
            "7     hannah baker  30.000000  62000.000000  Customer Support\n",
            "8      ian malcolm  50.000000  95000.000000             Legal\n",
            "9    Jessica Jones  33.000000  67000.000000    administration\n"
          ]
        }
      ]
    },
    {
      "cell_type": "code",
      "source": [
        "# filling the missing values with forward fill\n",
        "df_ffill=df.fillna(method=\"ffill\")\n",
        "print(df_ffill)"
      ],
      "metadata": {
        "colab": {
          "base_uri": "https://localhost:8080/"
        },
        "id": "G1hE6kymtpTh",
        "outputId": "452be189-307f-4403-b072-e60b03e9817e"
      },
      "execution_count": 19,
      "outputs": [
        {
          "output_type": "stream",
          "name": "stdout",
          "text": [
            "              Name   Age   Salary        Department\n",
            "0      Alice Smith  28.0  60000.0       Engineering\n",
            "1      Bob Johnson  75.0  65000.0         Marketing\n",
            "2    Charlie Brown  45.0  90000.0   Human Resources\n",
            "3     Diana Prince  45.0  65000.0           Finance\n",
            "4     Edward Elric  27.0  65000.0          Research\n",
            "5     Edward Elric  40.0  85000.0                IT\n",
            "6  George O'Malley  38.0  70000.0                IT\n",
            "7     hannah baker  30.0  62000.0  Customer Support\n",
            "8      ian malcolm  50.0  95000.0             Legal\n",
            "9    Jessica Jones  33.0  67000.0    administration\n"
          ]
        }
      ]
    },
    {
      "cell_type": "code",
      "source": [
        "# filling the missing values with backward fill\n",
        "df_bfill=df\n",
        "df_bfill[\"Age\"]=df_bfill[\"Age\"].fillna(method=\"bfill\")\n",
        "print(df_bfill)"
      ],
      "metadata": {
        "colab": {
          "base_uri": "https://localhost:8080/"
        },
        "id": "qRp1AmnquhpO",
        "outputId": "6be7de17-7b15-458e-e1d2-30e9dfc561fb"
      },
      "execution_count": 32,
      "outputs": [
        {
          "output_type": "stream",
          "name": "stdout",
          "text": [
            "               Name   Age   Salary        Department\n",
            "0       Alice Smith  28.0  60000.0       Engineering\n",
            "1       Bob Johnson  75.0  65000.0         Marketing\n",
            "2     Charlie Brown  45.0  90000.0   Human Resources\n",
            "3      Diana Prince  27.0  65000.0           Finance\n",
            "4      Edward Elric  27.0      NaN          Research\n",
            "5               NaN  40.0  85000.0                IT\n",
            "6   George O'Malley  38.0  70000.0                IT\n",
            "7      hannah baker  30.0  62000.0  Customer Support\n",
            "8       ian malcolm  50.0  95000.0             Legal\n",
            "9     Jessica Jones  33.0  67000.0    administration\n",
            "10      Alice Smith  28.0  60000.0       Engineering\n",
            "11      Bob Johnson  75.0  65000.0         Marketing\n"
          ]
        }
      ]
    },
    {
      "cell_type": "code",
      "source": [
        "# adding duplicate values to the dataset\n",
        "df=pd.concat([df,df.iloc[[0]],df.iloc[[1]]],ignore_index=True)\n",
        "print(df)\n",
        "print(\"\\n\")\n",
        "df_no_duplicate=df.drop_duplicates()\n",
        "print(df_no_duplicate)"
      ],
      "metadata": {
        "colab": {
          "base_uri": "https://localhost:8080/"
        },
        "id": "nqZO0C-5u55R",
        "outputId": "84d29921-2af3-48cf-d2e3-cd21252c72fc"
      },
      "execution_count": 27,
      "outputs": [
        {
          "output_type": "stream",
          "name": "stdout",
          "text": [
            "               Name   Age   Salary        Department\n",
            "0       Alice Smith  28.0  60000.0       Engineering\n",
            "1       Bob Johnson  75.0  65000.0         Marketing\n",
            "2     Charlie Brown  45.0  90000.0   Human Resources\n",
            "3      Diana Prince   NaN  65000.0           Finance\n",
            "4      Edward Elric  27.0      NaN          Research\n",
            "5               NaN  40.0  85000.0                IT\n",
            "6   George O'Malley  38.0  70000.0                IT\n",
            "7      hannah baker  30.0  62000.0  Customer Support\n",
            "8       ian malcolm  50.0  95000.0             Legal\n",
            "9     Jessica Jones  33.0  67000.0    administration\n",
            "10      Alice Smith  28.0  60000.0       Engineering\n",
            "11      Bob Johnson  75.0  65000.0         Marketing\n",
            "\n",
            "\n",
            "              Name   Age   Salary        Department\n",
            "0      Alice Smith  28.0  60000.0       Engineering\n",
            "1      Bob Johnson  75.0  65000.0         Marketing\n",
            "2    Charlie Brown  45.0  90000.0   Human Resources\n",
            "3     Diana Prince   NaN  65000.0           Finance\n",
            "4     Edward Elric  27.0      NaN          Research\n",
            "5              NaN  40.0  85000.0                IT\n",
            "6  George O'Malley  38.0  70000.0                IT\n",
            "7     hannah baker  30.0  62000.0  Customer Support\n",
            "8      ian malcolm  50.0  95000.0             Legal\n",
            "9    Jessica Jones  33.0  67000.0    administration\n"
          ]
        }
      ]
    },
    {
      "cell_type": "code",
      "source": [
        "correct_df=df.replace({\"Department\":{\"Human Resources\":\"HR\",\"Research\":\"R&D\"}})\n",
        "print(correct_df)"
      ],
      "metadata": {
        "colab": {
          "base_uri": "https://localhost:8080/"
        },
        "id": "OfbrDk8XxrG6",
        "outputId": "76d89f6b-58be-48fe-d964-0a24f9e9231a"
      },
      "execution_count": 31,
      "outputs": [
        {
          "output_type": "stream",
          "name": "stdout",
          "text": [
            "               Name   Age   Salary        Department\n",
            "0       Alice Smith  28.0  60000.0       Engineering\n",
            "1       Bob Johnson  75.0  65000.0         Marketing\n",
            "2     Charlie Brown  45.0  90000.0                HR\n",
            "3      Diana Prince   NaN  65000.0           Finance\n",
            "4      Edward Elric  27.0      NaN               R&D\n",
            "5               NaN  40.0  85000.0                IT\n",
            "6   George O'Malley  38.0  70000.0                IT\n",
            "7      hannah baker  30.0  62000.0  Customer Support\n",
            "8       ian malcolm  50.0  95000.0             Legal\n",
            "9     Jessica Jones  33.0  67000.0    administration\n",
            "10      Alice Smith  28.0  60000.0       Engineering\n",
            "11      Bob Johnson  75.0  65000.0         Marketing\n"
          ]
        }
      ]
    },
    {
      "cell_type": "code",
      "source": [
        "# Ensuring the consistency in the dataset\n",
        "df[\"Department\"]=df[\"Department\"].str.lower()#title for capatalize initials\n",
        "print(df)"
      ],
      "metadata": {
        "colab": {
          "base_uri": "https://localhost:8080/"
        },
        "id": "kWGFWlc4zFpW",
        "outputId": "183c02c1-6912-4ed3-9861-02a0b1065b74"
      },
      "execution_count": 34,
      "outputs": [
        {
          "output_type": "stream",
          "name": "stdout",
          "text": [
            "               Name   Age   Salary        Department\n",
            "0       Alice Smith  28.0  60000.0       engineering\n",
            "1       Bob Johnson  75.0  65000.0         marketing\n",
            "2     Charlie Brown  45.0  90000.0   human resources\n",
            "3      Diana Prince  27.0  65000.0           finance\n",
            "4      Edward Elric  27.0      NaN          research\n",
            "5               NaN  40.0  85000.0                it\n",
            "6   George O'Malley  38.0  70000.0                it\n",
            "7      hannah baker  30.0  62000.0  customer support\n",
            "8       ian malcolm  50.0  95000.0             legal\n",
            "9     Jessica Jones  33.0  67000.0    administration\n",
            "10      Alice Smith  28.0  60000.0       engineering\n",
            "11      Bob Johnson  75.0  65000.0         marketing\n"
          ]
        }
      ]
    },
    {
      "cell_type": "code",
      "source": [
        "df[\"Name\"]=df[\"Name\"].fillna(\"Unknown\")\n",
        "print(df)"
      ],
      "metadata": {
        "colab": {
          "base_uri": "https://localhost:8080/"
        },
        "id": "2hTkr43s0DG-",
        "outputId": "540a54fa-5c0e-4d43-a06e-2a64b307263c"
      },
      "execution_count": 35,
      "outputs": [
        {
          "output_type": "stream",
          "name": "stdout",
          "text": [
            "               Name   Age   Salary        Department\n",
            "0       Alice Smith  28.0  60000.0       engineering\n",
            "1       Bob Johnson  75.0  65000.0         marketing\n",
            "2     Charlie Brown  45.0  90000.0   human resources\n",
            "3      Diana Prince  27.0  65000.0           finance\n",
            "4      Edward Elric  27.0      NaN          research\n",
            "5           Unknown  40.0  85000.0                it\n",
            "6   George O'Malley  38.0  70000.0                it\n",
            "7      hannah baker  30.0  62000.0  customer support\n",
            "8       ian malcolm  50.0  95000.0             legal\n",
            "9     Jessica Jones  33.0  67000.0    administration\n",
            "10      Alice Smith  28.0  60000.0       engineering\n",
            "11      Bob Johnson  75.0  65000.0         marketing\n"
          ]
        }
      ]
    },
    {
      "cell_type": "code",
      "source": [
        "# applying in min-max normalization\n",
        "df_normalized=df.copy()\n",
        "for col in [\"Age\",\"Salary\"]:\n",
        "  df_normalized[col]=(df_normalized[col]-df_normalized[col].min())/(df_normalized[col].max()-df_normalized[col].min())\n",
        "print(df_normalized)"
      ],
      "metadata": {
        "colab": {
          "base_uri": "https://localhost:8080/"
        },
        "id": "Md6rhDjF0QYp",
        "outputId": "08bac77e-db27-4649-b4a0-4ba6fc41ddc3"
      },
      "execution_count": 36,
      "outputs": [
        {
          "output_type": "stream",
          "name": "stdout",
          "text": [
            "               Name       Age    Salary        Department\n",
            "0       Alice Smith  0.020833  0.000000       engineering\n",
            "1       Bob Johnson  1.000000  0.142857         marketing\n",
            "2     Charlie Brown  0.375000  0.857143   human resources\n",
            "3      Diana Prince  0.000000  0.142857           finance\n",
            "4      Edward Elric  0.000000       NaN          research\n",
            "5           Unknown  0.270833  0.714286                it\n",
            "6   George O'Malley  0.229167  0.285714                it\n",
            "7      hannah baker  0.062500  0.057143  customer support\n",
            "8       ian malcolm  0.479167  1.000000             legal\n",
            "9     Jessica Jones  0.125000  0.200000    administration\n",
            "10      Alice Smith  0.020833  0.000000       engineering\n",
            "11      Bob Johnson  1.000000  0.142857         marketing\n"
          ]
        }
      ]
    }
  ]
}