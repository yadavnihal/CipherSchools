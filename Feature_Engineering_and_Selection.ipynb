{
  "nbformat": 4,
  "nbformat_minor": 0,
  "metadata": {
    "colab": {
      "provenance": []
    },
    "kernelspec": {
      "name": "python3",
      "display_name": "Python 3"
    },
    "language_info": {
      "name": "python"
    }
  },
  "cells": [
    {
      "cell_type": "markdown",
      "source": [
        "# **Feature engineering** is the process of using domain knowledge to select and create features (variables) for machine learning algorithms. It involves transforming raw data into meaningful features that help improve model performance."
      ],
      "metadata": {
        "id": "_Uksv-_rq5DH"
      }
    },
    {
      "cell_type": "code",
      "source": [
        "\n",
        "# creating a sample data table\n",
        "import pandas as pd\n",
        "table={\n",
        "    \"feature1\":[1.0,None,3.0,4.0,5.0],\n",
        "    \"feature2\":[2.0,3.0,None,5.0,None],\n",
        "    \"feature3\":[None,3.0,4.0,None,6.0]\n",
        "}\n",
        "df=pd.DataFrame(table)\n",
        "df.columns=df.columns.str.title()#converting column names to title case\n",
        "print(df)\n",
        "# # handling missing values with replacing with there mean,median,mode or removing the rows with missing values\n",
        "# Imputation: Handling missing data by filling in missing values using statistical methods.\n",
        "from sklearn.impute import SimpleImputer\n",
        "imputer = SimpleImputer(strategy=\"mean\")\n",
        "df_imputed=pd.DataFrame(imputer.fit_transform(df),columns=df.columns)\n",
        "print(df_imputed)\n",
        "\n",
        "# df_fill=df.fillna(df.mean())\n",
        "# print(df_fill)"
      ],
      "metadata": {
        "colab": {
          "base_uri": "https://localhost:8080/"
        },
        "id": "ISM4lHpzrIIA",
        "outputId": "f7477540-7189-4101-db56-cad385ed7604"
      },
      "execution_count": null,
      "outputs": [
        {
          "output_type": "stream",
          "name": "stdout",
          "text": [
            "   Feature1  Feature2  Feature3\n",
            "0       1.0       2.0       NaN\n",
            "1       NaN       3.0       3.0\n",
            "2       3.0       NaN       4.0\n",
            "3       4.0       5.0       NaN\n",
            "4       5.0       NaN       6.0\n",
            "   Feature1  Feature2  Feature3\n",
            "0      1.00  2.000000  4.333333\n",
            "1      3.25  3.000000  3.000000\n",
            "2      3.00  3.333333  4.000000\n",
            "3      4.00  5.000000  4.333333\n",
            "4      5.00  3.333333  6.000000\n"
          ]
        }
      ]
    },
    {
      "cell_type": "code",
      "source": [
        "# Encoding Categorical Variables: Converting categorical variables into numerical representations that can be used by machine learning algorithms.\n",
        "# common methods include one-hot encoding and label encoding\n",
        "# creating a sample data\n",
        "from sklearn.preprocessing import OneHotEncoder\n",
        "\n",
        "data={\n",
        "    \"Color\":[\"Red\",\"Green\",\"Blue\",\"Red\",\"Blue\"]\n",
        "}\n",
        "data=pd.DataFrame(data)\n",
        "print(data)\n",
        "\n",
        "# Encoding categorical data\n",
        "encoder=OneHotEncoder(sparse=False)\n",
        "encoded_categories=encoder.fit_transform(data[[\"Color\"]])\n",
        "data_encoded=pd.DataFrame(encoded_categories,columns=encoder.get_feature_names_out([\"Color\"]))\n",
        "data=pd.concat([data,data_encoded],axis=1).drop(\"Color\",axis=1)\n",
        "print(data)\n",
        "\n"
      ],
      "metadata": {
        "colab": {
          "base_uri": "https://localhost:8080/"
        },
        "id": "By8jfcm4vy8Z",
        "outputId": "8a8e89cc-e733-4216-c085-849ded8090ff"
      },
      "execution_count": null,
      "outputs": [
        {
          "output_type": "stream",
          "name": "stdout",
          "text": [
            "   Color\n",
            "0    Red\n",
            "1  Green\n",
            "2   Blue\n",
            "3    Red\n",
            "4   Blue\n",
            "   Color_Blue  Color_Green  Color_Red\n",
            "0         0.0          0.0        1.0\n",
            "1         0.0          1.0        0.0\n",
            "2         1.0          0.0        0.0\n",
            "3         0.0          0.0        1.0\n",
            "4         1.0          0.0        0.0\n"
          ]
        },
        {
          "output_type": "stream",
          "name": "stderr",
          "text": [
            "/usr/local/lib/python3.10/dist-packages/sklearn/preprocessing/_encoders.py:868: FutureWarning: `sparse` was renamed to `sparse_output` in version 1.2 and will be removed in 1.4. `sparse_output` is ignored unless you leave `sparse` to its default value.\n",
            "  warnings.warn(\n"
          ]
        }
      ]
    },
    {
      "cell_type": "code",
      "source": [
        "# Feature scaling is a preprocessing technique used to standardize the range of independent variables so they have a similar scale\n",
        "# common methods are min-max scaling and standardization(z-score normalization)\n",
        "import pandas as pd\n",
        "from sklearn.preprocessing import MinMaxScaler\n",
        "from sklearn.preprocessing import StandardScaler\n",
        "\n",
        "data = {\n",
        "    \"Feature1\": [10, 20, 30, 40, 50],\n",
        "    \"Feature2\": [100,200,300,400,500]\n",
        "}\n",
        "df = pd.DataFrame(data)\n",
        "print(df)\n",
        "print(\"\\nMin-Max Normalization method:\")\n",
        "scaler=MinMaxScaler()\n",
        "scaled_data=pd.DataFrame(scaler.fit_transform(df),columns=df.columns)\n",
        "print(scaled_data)\n",
        "print(\"\\nStandard Normalization method:\")\n",
        "stscaler=StandardScaler()\n",
        "Stscaler_data=pd.DataFrame(stscaler.fit_transform(df),columns=df.columns)\n",
        "print(Stscaler_data)"
      ],
      "metadata": {
        "colab": {
          "base_uri": "https://localhost:8080/"
        },
        "id": "DQv3fnGC4CE5",
        "outputId": "ec17317a-86ec-42d2-bdd1-f7769d959c1b"
      },
      "execution_count": null,
      "outputs": [
        {
          "output_type": "stream",
          "name": "stdout",
          "text": [
            "   Feature1  Feature2\n",
            "0        10       100\n",
            "1        20       200\n",
            "2        30       300\n",
            "3        40       400\n",
            "4        50       500\n",
            "\n",
            "Min-Max Normalization method:\n",
            "   Feature1  Feature2\n",
            "0      0.00      0.00\n",
            "1      0.25      0.25\n",
            "2      0.50      0.50\n",
            "3      0.75      0.75\n",
            "4      1.00      1.00\n",
            "\n",
            "Standard Normalization method:\n",
            "   Feature1  Feature2\n",
            "0 -1.414214 -1.414214\n",
            "1 -0.707107 -0.707107\n",
            "2  0.000000  0.000000\n",
            "3  0.707107  0.707107\n",
            "4  1.414214  1.414214\n"
          ]
        }
      ]
    },
    {
      "cell_type": "code",
      "source": [
        "# Feature Creation: Creating new features from existing ones that are more informative for the model.\n",
        "import pandas as pd\n",
        "from sklearn.preprocessing import PolynomialFeatures\n",
        "\n",
        "# Example DataFrame\n",
        "data = pd.DataFrame({\n",
        "    'feature1': [1, 2, 3, 4],\n",
        "    'feature2': [5, 6, 7, 8]\n",
        "})\n",
        "\n",
        "# Creating polynomial features\n",
        "poly = PolynomialFeatures(degree=2, include_bias=False)\n",
        "poly_features = poly.fit_transform(data)\n",
        "data_poly = pd.DataFrame(poly_features, columns=poly.get_feature_names_out(['feature1', 'feature2']))\n",
        "\n",
        "print(data_poly)\n"
      ],
      "metadata": {
        "colab": {
          "base_uri": "https://localhost:8080/"
        },
        "id": "-mwcmEOe6m7E",
        "outputId": "8bcf4eaa-e92e-45ae-c7a6-eb955d6b15f1"
      },
      "execution_count": null,
      "outputs": [
        {
          "output_type": "stream",
          "name": "stdout",
          "text": [
            "   feature1  feature2  feature1^2  feature1 feature2  feature2^2\n",
            "0       1.0       5.0         1.0                5.0        25.0\n",
            "1       2.0       6.0         4.0               12.0        36.0\n",
            "2       3.0       7.0         9.0               21.0        49.0\n",
            "3       4.0       8.0        16.0               32.0        64.0\n"
          ]
        }
      ]
    },
    {
      "cell_type": "markdown",
      "source": [
        "### **Variance thresholding** is a feature selection technique used to remove features with low variance from a dataset. The rationale behind variance thresholding is that features with very low variance (close to zero) are likely not informative and may not contribute much to the model's performance.\n",
        "\n",
        "### **Correlation matrix filtering** based on correlation matrix involves identifying and potentially removing features that are highly correlated with each other. Highly correlated features can lead to multicollinearity issues in regression models and may not add significant additional information to the model\n",
        "\n",
        "### **Domain knowledge** is crucial in feature engineering and involves using expertise from the specific field or industry to manually select the most relevant features."
      ],
      "metadata": {
        "id": "RNy5C0md9W_w"
      }
    },
    {
      "cell_type": "code",
      "source": [
        "import pandas as pd\n",
        "from sklearn.feature_selection import VarianceThreshold\n",
        "# Sample data\n",
        "data={\n",
        "    \"feature1\":[1,2,3,4,5],\n",
        "    \"feature2\":[6,7,8,9,10],\n",
        "    \"feature3\":[11,12,13,14,15],\n",
        "    \"constant\":[1,1,1,1,1] #zero variance\n",
        "}\n",
        "df=pd.DataFrame(data)\n",
        "\n",
        "# Variance Thresholding\n",
        "selector=VarianceThreshold(threshold=0.1)\n",
        "df_variance_filtered=pd.DataFrame(selector.fit_transform(df),columns=df.columns[selector.get_support()])\n",
        "print(df_variance_filtered)"
      ],
      "metadata": {
        "id": "EtVM_MiT_R9x",
        "colab": {
          "base_uri": "https://localhost:8080/"
        },
        "outputId": "2de9abf4-aa2a-4236-c190-c5bba2109876"
      },
      "execution_count": 5,
      "outputs": [
        {
          "output_type": "stream",
          "name": "stdout",
          "text": [
            "   feature1  feature2  feature3\n",
            "0         1         6        11\n",
            "1         2         7        12\n",
            "2         3         8        13\n",
            "3         4         9        14\n",
            "4         5        10        15\n"
          ]
        }
      ]
    },
    {
      "cell_type": "code",
      "source": [
        "import pandas as pd\n",
        "import numpy as np\n",
        "import seaborn as sns\n",
        "import matplotlib.pyplot as plt\n",
        "\n",
        "data={\n",
        "    \"feature1\":[1,2,3,4,5],\n",
        "    \"feature2\":[6,7,8,9,10],#feature 2 is highly correlated with feature 3\n",
        "    \"feature3\":[6,7,8,9,10],\n",
        "    \"feature4\":[11,12,13,14,15]\n",
        "}\n",
        "df=pd.DataFrame(data)\n",
        "#correlation matrix\n",
        "corr_matrix=df.corr().abs()\n",
        "# plotting heatmap\n",
        "plt.figure(figsize=(10,8))\n",
        "sns.heatmap(corr_matrix,annot=True,cmap=\"coolwarm\",fmt=\".2f\")\n",
        "plt.show()\n",
        "\n",
        "# selecting the upper traingle of the matrix\n",
        "upper=corr_matrix.where(np.triu(np.ones(corr_matrix.shape),k=1).astype(bool))\n",
        "\n",
        "# find features with correlation greater than 0.9\n",
        "to_drop=[column for column in upper.columns if any(upper[column]>0.9)]\n",
        "\n",
        "df_corr_filtered=df.drop(to_drop,axis=1)\n",
        "print(df_corr_filtered)"
      ],
      "metadata": {
        "colab": {
          "base_uri": "https://localhost:8080/",
          "height": 786
        },
        "id": "-RF78X8nQ-Yo",
        "outputId": "4f445560-27a6-47cd-8eff-a19ac7410524"
      },
      "execution_count": 11,
      "outputs": [
        {
          "output_type": "display_data",
          "data": {
            "text/plain": [
              "<Figure size 1000x800 with 2 Axes>"
            ],
            "image/png": "[encoded data removed]"
          },
          "metadata": {}
        },
        {
          "output_type": "stream",
          "name": "stdout",
          "text": [
            "   feature1\n",
            "0         1\n",
            "1         2\n",
            "2         3\n",
            "3         4\n",
            "4         5\n"
          ]
        }
      ]
    }
  ]
}