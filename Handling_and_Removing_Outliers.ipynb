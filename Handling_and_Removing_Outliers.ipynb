{
  "nbformat": 4,
  "nbformat_minor": 0,
  "metadata": {
    "colab": {
      "provenance": []
    },
    "kernelspec": {
      "name": "python3",
      "display_name": "Python 3"
    },
    "language_info": {
      "name": "python"
    }
  },
  "cells": [
    {
      "cell_type": "markdown",
      "source": [
        "# **Handling and Removing Outliers**\n",
        "**outliers**: outliers are data points that differ significantly from other observations. they can occur due to variability in the data or experimental errors\n",
        "\n",
        "**Handling Outliers**:This involves identifying and deciding whether to remove or adjust outliers to improve the accuracy of statistical analyses and machine learning models.\n"
      ],
      "metadata": {
        "id": "KnCXAph_7sOR"
      }
    },
    {
      "cell_type": "code",
      "source": [
        "# loading the dataset\n",
        "import pandas as pd\n",
        "df=pd.read_csv('outliers_data.csv')\n",
        "print(df)\n"
      ],
      "metadata": {
        "colab": {
          "base_uri": "https://localhost:8080/"
        },
        "id": "VVakBzosINVM",
        "outputId": "d19da63d-8dd4-4e82-ce9f-c583c873df24"
      },
      "execution_count": 3,
      "outputs": [
        {
          "output_type": "stream",
          "name": "stdout",
          "text": [
            "      Name  Age   Salary Department\n",
            "0    Alice   25    50000         HR\n",
            "1      Bob   32    60000    Finance\n",
            "2  Charlie   40    55000         IT\n",
            "3    David   22    45000  Marketing\n",
            "4      Eva   60    80000         HR\n",
            "5    Frank   28   500000    Finance\n",
            "6    Grace  120    48000         IT\n",
            "7   Hannah   34    70000  Marketing\n",
            "8      Ian   29    52000         HR\n",
            "9     Jack  200  1500000    Finance\n"
          ]
        }
      ]
    },
    {
      "cell_type": "code",
      "source": [
        "# Plotting the box plot\n",
        "import matplotlib.pyplot as plt\n",
        "plt.figure(figsize=(10,5))\n",
        "# plotting the boxplot of age coloumn\n",
        "plt.subplot(1,2,1)\n",
        "plt.boxplot(df[\"Age\"].dropna(),)#dropna is used to remove the null value if there was.\n",
        "plt.title(\"Boxplot of Age\",color=\"g\")\n",
        "\n",
        "# plotting the boxplot of Salary coloumn\n",
        "plt.subplot(1,2,2)\n",
        "plt.boxplot(df[\"Salary\"].dropna(),vert=False)#vert is used to plot graph vertically or horizontally\n",
        "plt.title(\"Boxplot of Salary\",color=\"r\")\n",
        "\n",
        "plt.show()"
      ],
      "metadata": {
        "colab": {
          "base_uri": "https://localhost:8080/",
          "height": 486
        },
        "id": "IDp3L0zcLYRq",
        "outputId": "ceddda46-fc23-460f-a5a3-15b34c9a1142"
      },
      "execution_count": 4,
      "outputs": [
        {
          "output_type": "display_data",
          "data": {
            "text/plain": [
              "<Figure size 1000x500 with 2 Axes>"
            ],
            "image/png": "[encoded data removed]"
          },
          "metadata": {}
        }
      ]
    },
    {
      "cell_type": "code",
      "source": [
        "# Capping the outliers using the IQR method\n",
        "df_capped=df.copy()\n",
        "for col in [\"Age\",\"Salary\"]:\n",
        "  Q1=df_capped[col].quantile(0.25)\n",
        "  Q3=df_capped[col].quantile(0.75)\n",
        "  IQR=Q3-Q1\n",
        "  lower_bound=Q1-(1.5*IQR)\n",
        "  upper_bound=Q3+(1.5*IQR)\n",
        "  df_capped[col]=df_capped[col].apply(lambda x: upper_bound if x>upper_bound else(lower_bound if x<lower_bound else x))\n",
        "print(df_capped)"
      ],
      "metadata": {
        "colab": {
          "base_uri": "https://localhost:8080/"
        },
        "id": "YFOl8FO1O_x0",
        "outputId": "5955fbb6-5d95-42f5-b390-9dedf7e48188"
      },
      "execution_count": 5,
      "outputs": [
        {
          "output_type": "stream",
          "name": "stdout",
          "text": [
            "      Name     Age    Salary Department\n",
            "0    Alice  25.000   50000.0         HR\n",
            "1      Bob  32.000   60000.0    Finance\n",
            "2  Charlie  40.000   55000.0         IT\n",
            "3    David  22.000   45000.0  Marketing\n",
            "4      Eva  60.000   80000.0         HR\n",
            "5    Frank  28.000  118000.0    Finance\n",
            "6    Grace  95.125   48000.0         IT\n",
            "7   Hannah  34.000   70000.0  Marketing\n",
            "8      Ian  29.000   52000.0         HR\n",
            "9     Jack  95.125  118000.0    Finance\n"
          ]
        }
      ]
    },
    {
      "cell_type": "code",
      "source": [
        "# replacing the outliers with median\n",
        "df_replace=df.copy()\n",
        "for col in [\"Age\",\"Salary\"]:\n",
        "  Q1=df_replace[col].quantile(0.25)\n",
        "  Q3=df_replace[col].quantile(0.75)\n",
        "  IQR=Q3-Q1\n",
        "  lower_bound=Q1-(1.5*IQR)\n",
        "  upper_bound=Q3+(1.5*IQR)\n",
        "  df_replace[col]=df_replace[col].apply(lambda x: df_replace[col].median() if x>upper_bound or x<lower_bound else x)\n",
        "print(df_replace)"
      ],
      "metadata": {
        "colab": {
          "base_uri": "https://localhost:8080/"
        },
        "id": "Rr0DzuuyiBqw",
        "outputId": "551c56dc-b8c8-4e9c-f92a-6f7bc68ab995"
      },
      "execution_count": 6,
      "outputs": [
        {
          "output_type": "stream",
          "name": "stdout",
          "text": [
            "      Name   Age   Salary Department\n",
            "0    Alice  25.0  50000.0         HR\n",
            "1      Bob  32.0  60000.0    Finance\n",
            "2  Charlie  40.0  55000.0         IT\n",
            "3    David  22.0  45000.0  Marketing\n",
            "4      Eva  60.0  80000.0         HR\n",
            "5    Frank  28.0  57500.0    Finance\n",
            "6    Grace  33.0  48000.0         IT\n",
            "7   Hannah  34.0  70000.0  Marketing\n",
            "8      Ian  29.0  52000.0         HR\n",
            "9     Jack  33.0  57500.0    Finance\n"
          ]
        }
      ]
    }
  ]
}