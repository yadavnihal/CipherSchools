{
  "nbformat": 4,
  "nbformat_minor": 0,
  "metadata": {
    "colab": {
      "provenance": []
    },
    "kernelspec": {
      "name": "python3",
      "display_name": "Python 3"
    },
    "language_info": {
      "name": "python"
    }
  },
  "cells": [
    {
      "cell_type": "code",
      "execution_count": 3,
      "metadata": {
        "id": "778nMMncDnVF",
        "colab": {
          "base_uri": "https://localhost:8080/"
        },
        "outputId": "76781bab-b923-4b9b-9095-4b0bfccba54e"
      },
      "outputs": [
        {
          "output_type": "stream",
          "name": "stdout",
          "text": [
            "[1 2 3 4 5]\n",
            "[[1 2 3]\n",
            " [6 7 8]]\n"
          ]
        }
      ],
      "source": [
        "import numpy as np\n",
        "arr1=np.array([1,2,3,4,5])\n",
        "arr2=np.array([[1,2,3],[6,7,8]])\n",
        "print(arr1)\n",
        "print(arr2)"
      ]
    },
    {
      "cell_type": "code",
      "source": [
        "#creating a array of zeros\n",
        "arr_zeros = np.zeros((4,5))\n",
        "print(arr_zeros)\n"
      ],
      "metadata": {
        "colab": {
          "base_uri": "https://localhost:8080/"
        },
        "id": "sCXuL1Hl3u4Z",
        "outputId": "7c677d49-4cb6-41ac-9359-d2017f895f55"
      },
      "execution_count": 7,
      "outputs": [
        {
          "output_type": "stream",
          "name": "stdout",
          "text": [
            "[[0. 0. 0. 0. 0.]\n",
            " [0. 0. 0. 0. 0.]\n",
            " [0. 0. 0. 0. 0.]\n",
            " [0. 0. 0. 0. 0.]]\n"
          ]
        }
      ]
    },
    {
      "cell_type": "code",
      "source": [
        "#creating a array of ones\n",
        "arr_ones= np.ones((4,5))\n",
        "print(arr_ones)\n"
      ],
      "metadata": {
        "colab": {
          "base_uri": "https://localhost:8080/"
        },
        "id": "EjIeuL1t3MGw",
        "outputId": "91cfb0b5-4b08-4f97-9c7e-3455b34cd507"
      },
      "execution_count": 9,
      "outputs": [
        {
          "output_type": "stream",
          "name": "stdout",
          "text": [
            "[[1. 1. 1. 1. 1.]\n",
            " [1. 1. 1. 1. 1.]\n",
            " [1. 1. 1. 1. 1.]\n",
            " [1. 1. 1. 1. 1.]]\n"
          ]
        }
      ]
    },
    {
      "cell_type": "code",
      "source": [
        "\n",
        "import numpy as np\n",
        "#creating an array with random values\n",
        "arr_random = np.random.rand(3,3)\n",
        "print(arr_random)\n"
      ],
      "metadata": {
        "colab": {
          "base_uri": "https://localhost:8080/"
        },
        "id": "Xt9Ndva94k3h",
        "outputId": "1e26fe71-08f6-490d-bbd2-d76d30e1643c"
      },
      "execution_count": 12,
      "outputs": [
        {
          "output_type": "stream",
          "name": "stdout",
          "text": [
            "[[0.0645497  0.59397176 0.59714086]\n",
            " [0.95290698 0.65777261 0.76751296]\n",
            " [0.25558722 0.74541734 0.29075135]]\n"
          ]
        }
      ]
    },
    {
      "cell_type": "code",
      "source": [
        "#creating an array with range of values\n",
        "arr_range = np.arange(2,20,2)\n",
        "print(arr_range)"
      ],
      "metadata": {
        "colab": {
          "base_uri": "https://localhost:8080/"
        },
        "id": "xSOOJftO42jI",
        "outputId": "cbdf96be-5be7-4f95-dbce-1a2d029df278"
      },
      "execution_count": 13,
      "outputs": [
        {
          "output_type": "stream",
          "name": "stdout",
          "text": [
            "[ 2  4  6  8 10 12 14 16 18]\n"
          ]
        }
      ]
    },
    {
      "cell_type": "code",
      "source": [
        "#element wise addition\n",
        "arr1=np.array([1,2,3,4,5])\n",
        "\n",
        "arr1=arr1+2\n",
        "print(arr1)"
      ],
      "metadata": {
        "colab": {
          "base_uri": "https://localhost:8080/"
        },
        "id": "65bVMAvg42fv",
        "outputId": "8377257e-e682-40ee-d94a-0ebf2646352c"
      },
      "execution_count": 17,
      "outputs": [
        {
          "output_type": "stream",
          "name": "stdout",
          "text": [
            "[3 4 5 6 7]\n"
          ]
        }
      ]
    },
    {
      "cell_type": "code",
      "source": [
        "#element wise multiplication\n",
        "arr1=np.array([1,2,3,4,5])\n",
        "\n",
        "arr1=arr1*2\n",
        "print(arr1)"
      ],
      "metadata": {
        "colab": {
          "base_uri": "https://localhost:8080/"
        },
        "id": "0MZ8h4FN5tQ2",
        "outputId": "8f04c426-0906-4c26-9706-9ef3f60238f4"
      },
      "execution_count": 18,
      "outputs": [
        {
          "output_type": "stream",
          "name": "stdout",
          "text": [
            "[ 2  4  6  8 10]\n"
          ]
        }
      ]
    },
    {
      "cell_type": "code",
      "source": [
        "arr1=np.array([1,2,3,4,5])\n",
        "print(arr1)\n",
        "arr2=np.sqrt(arr1)\n",
        "print(arr2)\n",
        "arr3=np.exp(arr1)\n",
        "print(arr3)\n",
        "arr4=np.log(arr1)\n",
        "print(arr4)"
      ],
      "metadata": {
        "colab": {
          "base_uri": "https://localhost:8080/"
        },
        "id": "1msTaD1N6Kqk",
        "outputId": "8e032c26-c883-42c2-e4ed-ec1d36c19d82"
      },
      "execution_count": 24,
      "outputs": [
        {
          "output_type": "stream",
          "name": "stdout",
          "text": [
            "[1 2 3 4 5]\n",
            "[1.         1.41421356 1.73205081 2.         2.23606798]\n",
            "[  2.71828183   7.3890561   20.08553692  54.59815003 148.4131591 ]\n",
            "[0.         0.69314718 1.09861229 1.38629436 1.60943791]\n"
          ]
        }
      ]
    },
    {
      "cell_type": "code",
      "source": [
        "#slicing array\n",
        "arr1=np.array([1,2,3,4,5])\n",
        "print(arr1[2:4])"
      ],
      "metadata": {
        "colab": {
          "base_uri": "https://localhost:8080/"
        },
        "id": "t0ON7msx7NW_",
        "outputId": "48a847a9-4b0c-484c-96f9-4445342bb066"
      },
      "execution_count": 25,
      "outputs": [
        {
          "output_type": "stream",
          "name": "stdout",
          "text": [
            "[3 4]\n"
          ]
        }
      ]
    },
    {
      "cell_type": "code",
      "source": [
        "#advanced indexing\n",
        "arr1=np.array([1,2,3,4,5])\n",
        "print(arr1[arr1>2])\n",
        "print(arr1[arr1%2==0])\n",
        "print(arr1[[0,2,3]])\n",
        "print(arr1[np.array([True,False,True,False,True])])\n",
        "print(arr1[arr1<3])\n"
      ],
      "metadata": {
        "colab": {
          "base_uri": "https://localhost:8080/"
        },
        "id": "qh_eMeXi7axD",
        "outputId": "55129184-469c-446f-9b1c-a4adc3f5d215"
      },
      "execution_count": 29,
      "outputs": [
        {
          "output_type": "stream",
          "name": "stdout",
          "text": [
            "[3 4 5]\n",
            "[2 4]\n",
            "[1 3 4]\n",
            "[1 3 5]\n",
            "[1 2]\n"
          ]
        }
      ]
    },
    {
      "cell_type": "code",
      "source": [
        "#reshaping\n",
        "arr1=np.array([[1,2,3,4],[5,6,7,8]])\n",
        "print(arr1)\n",
        "print(arr1.reshape(2,4))\n",
        "#transposing the array\n",
        "print(arr1.T)\n"
      ],
      "metadata": {
        "colab": {
          "base_uri": "https://localhost:8080/"
        },
        "id": "nTquBOcx8Xzx",
        "outputId": "b563803f-b6c6-48cc-ec6a-013eb8fa1f65"
      },
      "execution_count": 41,
      "outputs": [
        {
          "output_type": "stream",
          "name": "stdout",
          "text": [
            "[[1 2 3 4]\n",
            " [5 6 7 8]]\n",
            "[[1 2 3 4]\n",
            " [5 6 7 8]]\n",
            "[[1 5]\n",
            " [2 6]\n",
            " [3 7]\n",
            " [4 8]]\n"
          ]
        }
      ]
    },
    {
      "cell_type": "code",
      "source": [
        "#aggregation of data\n",
        "arr1=np.array([[1,2,3,4],[5,6,7,8]])\n",
        "print(arr1.sum())\n",
        "print(arr1.min())\n",
        "print(arr1.max())\n",
        "print(arr1.mean())\n",
        "#sum along coloums\n",
        "print(np.sum(arr1,axis=0))\n",
        "#sum along rows\n",
        "print(np.sum(arr1,axis=1))"
      ],
      "metadata": {
        "colab": {
          "base_uri": "https://localhost:8080/"
        },
        "id": "XzZbmQ549mfj",
        "outputId": "24d8af92-649b-43a9-a771-82d2f89cc026"
      },
      "execution_count": 43,
      "outputs": [
        {
          "output_type": "stream",
          "name": "stdout",
          "text": [
            "36\n",
            "1\n",
            "8\n",
            "4.5\n",
            "[ 6  8 10 12]\n",
            "[10 26]\n"
          ]
        }
      ]
    },
    {
      "cell_type": "code",
      "source": [
        "#index of minimum value\n",
        "print(arr1.argmin())\n",
        "#index of maximum value\n",
        "print(arr1.argmax())\n"
      ],
      "metadata": {
        "colab": {
          "base_uri": "https://localhost:8080/"
        },
        "id": "jto5sfAF-cXu",
        "outputId": "91905bd9-1dfc-421e-ae00-ccabf6a1fc84"
      },
      "execution_count": 44,
      "outputs": [
        {
          "output_type": "stream",
          "name": "stdout",
          "text": [
            "0\n",
            "7\n"
          ]
        }
      ]
    }
  ]
}