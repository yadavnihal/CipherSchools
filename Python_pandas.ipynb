{
  "nbformat": 4,
  "nbformat_minor": 0,
  "metadata": {
    "colab": {
      "provenance": []
    },
    "kernelspec": {
      "name": "python3",
      "display_name": "Python 3"
    },
    "language_info": {
      "name": "python"
    }
  },
  "cells": [
    {
      "cell_type": "code",
      "execution_count": null,
      "metadata": {
        "colab": {
          "base_uri": "https://localhost:8080/"
        },
        "id": "ne6zDphi9aM6",
        "outputId": "318fcdb7-ae4d-476b-e523-cf3f62d49bd7"
      },
      "outputs": [
        {
          "output_type": "stream",
          "name": "stdout",
          "text": [
            "     Name  Age         City\n",
            "0   Nihal   18     New York\n",
            "1  Robert   21  Los Angeles\n",
            "2    Alon   19      Chicago\n",
            "3     tom   18      Houston\n"
          ]
        }
      ],
      "source": [
        "import pandas as pd\n",
        "# creating DataFrame from dictionary\n",
        "data= {\n",
        "    \"Name\": ['Nihal','Robert','Alon','tom'],\n",
        "    'Age': [18,21,19,18],\n",
        "    'City': ['New York','Los Angeles','Chicago','Houston']\n",
        "}\n",
        "df=pd.DataFrame(data)\n",
        "print(df)"
      ]
    },
    {
      "cell_type": "code",
      "source": [
        "#creating a dataframe from a list of dictionary\n",
        "data=[\n",
        "    {'Name':'Nihal','Age':18,'City':'New York'},\n",
        "    {'Name':'John','Age':21,'City':'Los Angeles'},\n",
        "    {'Name':'Alon','Age':19,'City':'Chicago'},\n",
        "    {'Name':'tom',\"Age\":34,\"City\":'New Jersey'}\n",
        "]\n",
        "df=pd.DataFrame(data)\n",
        "print(df)"
      ],
      "metadata": {
        "colab": {
          "base_uri": "https://localhost:8080/"
        },
        "id": "zJSd4Wuv-54f",
        "outputId": "555d4fee-b239-4e43-cdca-44cb461d4422"
      },
      "execution_count": null,
      "outputs": [
        {
          "output_type": "stream",
          "name": "stdout",
          "text": [
            "    Name  Age         City\n",
            "0  Nihal   18     New York\n",
            "1   John   21  Los Angeles\n",
            "2   Alon   19      Chicago\n",
            "3    tom   34   New Jersey\n"
          ]
        }
      ]
    },
    {
      "cell_type": "code",
      "source": [
        "# creating dataframe from a csv file\n",
        "data=pd.read_csv(\"sample_data.csv\")\n",
        "print(data)"
      ],
      "metadata": {
        "colab": {
          "base_uri": "https://localhost:8080/"
        },
        "id": "YNOX0jaYBPj3",
        "outputId": "3fa0fa18-dc62-4cbd-ffdb-21b78f4f764d"
      },
      "execution_count": 31,
      "outputs": [
        {
          "output_type": "stream",
          "name": "stdout",
          "text": [
            "             Name  Age         City\n",
            "0        John Doe   28     New York\n",
            "1      Jane Smith   34  Los Angeles\n",
            "2     Emily Davis   22      Chicago\n",
            "3   Michael Brown   45      Houston\n",
            "4  Jessica Wilson   29      Phoenix\n"
          ]
        }
      ]
    },
    {
      "cell_type": "code",
      "source": [
        "#viewing data\n",
        "print(data.head())#prints first 5 rows\n",
        "print(data.tail())#prints last 5 rows"
      ],
      "metadata": {
        "colab": {
          "base_uri": "https://localhost:8080/"
        },
        "id": "KpqnAy9nBtoy",
        "outputId": "34d5af0e-f6ee-4c14-f2ac-b9e75acf822e"
      },
      "execution_count": null,
      "outputs": [
        {
          "output_type": "stream",
          "name": "stdout",
          "text": [
            "             Name  Age         City\n",
            "0        John Doe   28     New York\n",
            "1      Jane Smith   34  Los Angeles\n",
            "2     Emily Davis   22      Chicago\n",
            "3   Michael Brown   45      Houston\n",
            "4  Jessica Wilson   29      Phoenix\n",
            "             Name  Age         City\n",
            "0        John Doe   28     New York\n",
            "1      Jane Smith   34  Los Angeles\n",
            "2     Emily Davis   22      Chicago\n",
            "3   Michael Brown   45      Houston\n",
            "4  Jessica Wilson   29      Phoenix\n"
          ]
        }
      ]
    },
    {
      "cell_type": "code",
      "source": [
        "#getting detail about the DataFrame\n",
        "print(data.info())"
      ],
      "metadata": {
        "colab": {
          "base_uri": "https://localhost:8080/"
        },
        "id": "LDoOY_4dCXx8",
        "outputId": "0e45d5a8-e3ae-403a-ad82-9bc386631a25"
      },
      "execution_count": 33,
      "outputs": [
        {
          "output_type": "stream",
          "name": "stdout",
          "text": [
            "<class 'pandas.core.frame.DataFrame'>\n",
            "RangeIndex: 5 entries, 0 to 4\n",
            "Data columns (total 3 columns):\n",
            " #   Column  Non-Null Count  Dtype \n",
            "---  ------  --------------  ----- \n",
            " 0   Name    5 non-null      object\n",
            " 1   Age     5 non-null      int64 \n",
            " 2   City    5 non-null      object\n",
            "dtypes: int64(1), object(2)\n",
            "memory usage: 248.0+ bytes\n",
            "None\n"
          ]
        }
      ]
    },
    {
      "cell_type": "code",
      "source": [
        "print(df.describe())"
      ],
      "metadata": {
        "colab": {
          "base_uri": "https://localhost:8080/"
        },
        "id": "qKT7hHYux4Ur",
        "outputId": "820232ae-ea9e-40cc-88fb-0e918505f1c9"
      },
      "execution_count": null,
      "outputs": [
        {
          "output_type": "stream",
          "name": "stdout",
          "text": [
            "             Age\n",
            "count   4.000000\n",
            "mean   19.000000\n",
            "std     1.414214\n",
            "min    18.000000\n",
            "25%    18.000000\n",
            "50%    18.500000\n",
            "75%    19.500000\n",
            "max    21.000000\n"
          ]
        }
      ]
    },
    {
      "cell_type": "code",
      "source": [
        "print(df)\n",
        "# print(df.Name)\n",
        "print(df['Name'])"
      ],
      "metadata": {
        "colab": {
          "base_uri": "https://localhost:8080/"
        },
        "id": "wXfFzmdyy4Si",
        "outputId": "245aa2b3-1e9e-4451-c660-f658c2a4c7db"
      },
      "execution_count": 32,
      "outputs": [
        {
          "output_type": "stream",
          "name": "stdout",
          "text": [
            "    Name  Age      City   Bonus\n",
            "0  Nihal   19  New York  1000.0\n",
            "2   Alon   20   Chicago  3000.0\n",
            "3    tom   19   Houston  4000.0\n",
            "0    Nihal\n",
            "2     Alon\n",
            "3      tom\n",
            "Name: Name, dtype: object\n"
          ]
        }
      ]
    },
    {
      "cell_type": "code",
      "source": [
        "print(df[['Name','Age']])\n"
      ],
      "metadata": {
        "colab": {
          "base_uri": "https://localhost:8080/"
        },
        "id": "8PmrQ4wCzI5p",
        "outputId": "d0ef6a4d-2c8a-40cb-d355-2198d770f1f2"
      },
      "execution_count": null,
      "outputs": [
        {
          "output_type": "stream",
          "name": "stdout",
          "text": [
            "     Name  Age\n",
            "0   Nihal   18\n",
            "1  Robert   21\n",
            "2    Alon   19\n",
            "3     tom   18\n"
          ]
        }
      ]
    },
    {
      "cell_type": "code",
      "source": [
        "# filtering row based on condition\n",
        "print(df[df['Age']>19])"
      ],
      "metadata": {
        "colab": {
          "base_uri": "https://localhost:8080/"
        },
        "id": "4ER3ADYcza6T",
        "outputId": "51a81a80-bdd7-4765-d797-c7519560f297"
      },
      "execution_count": null,
      "outputs": [
        {
          "output_type": "stream",
          "name": "stdout",
          "text": [
            "     Name  Age         City\n",
            "1  Robert   21  Los Angeles\n"
          ]
        }
      ]
    },
    {
      "cell_type": "code",
      "source": [
        "#adding colomn in dataFrame\n",
        "df['Salary']=[10000,20000,30000,40000]\n",
        "# df['Bonus']=df['Salary']*0.1\n",
        "print(df)"
      ],
      "metadata": {
        "colab": {
          "base_uri": "https://localhost:8080/"
        },
        "id": "Dz-ydBq-0TTz",
        "outputId": "6548558a-a88e-4fe7-92b7-21aab2affd84"
      },
      "execution_count": null,
      "outputs": [
        {
          "output_type": "stream",
          "name": "stdout",
          "text": [
            "     Name  Age         City   Bonus  Salary\n",
            "0   Nihal   19     New York  1000.0   10000\n",
            "1  Robert   22  Los Angeles  2000.0   20000\n",
            "2    Alon   20      Chicago  3000.0   30000\n",
            "3     tom   19      Houston  4000.0   40000\n"
          ]
        }
      ]
    },
    {
      "cell_type": "code",
      "source": [
        "# modifying existing coloumn\n",
        "df['Age']=df['Age']+1\n",
        "print(df)"
      ],
      "metadata": {
        "colab": {
          "base_uri": "https://localhost:8080/"
        },
        "id": "NosN_pbx0w2L",
        "outputId": "58aea7af-b5ed-49de-968d-8ccb8790119d"
      },
      "execution_count": null,
      "outputs": [
        {
          "output_type": "stream",
          "name": "stdout",
          "text": [
            "     Name  Age         City  Salary   Bonus\n",
            "0   Nihal   19     New York   10000  1000.0\n",
            "1  Robert   22  Los Angeles   20000  2000.0\n",
            "2    Alon   20      Chicago   30000  3000.0\n",
            "3     tom   19      Houston   40000  4000.0\n"
          ]
        }
      ]
    },
    {
      "cell_type": "code",
      "source": [
        "# dropping a coloumn\n",
        "df=df.drop(columns=['Salary'])\n",
        "print(df)"
      ],
      "metadata": {
        "colab": {
          "base_uri": "https://localhost:8080/"
        },
        "id": "gjXlJFzT1Dx_",
        "outputId": "73ace58c-6530-469b-dcda-06ba0cc7c524"
      },
      "execution_count": null,
      "outputs": [
        {
          "output_type": "stream",
          "name": "stdout",
          "text": [
            "     Name  Age         City   Bonus\n",
            "0   Nihal   19     New York  1000.0\n",
            "1  Robert   22  Los Angeles  2000.0\n",
            "2    Alon   20      Chicago  3000.0\n",
            "3     tom   19      Houston  4000.0\n"
          ]
        }
      ]
    },
    {
      "cell_type": "code",
      "source": [
        "#dropping a row\n",
        "df=df.drop([1])#or df=df.drop(index=1)\n",
        "print(df)"
      ],
      "metadata": {
        "colab": {
          "base_uri": "https://localhost:8080/",
          "height": 321
        },
        "id": "dND74aLW2jb3",
        "outputId": "9c2dc99c-3746-4311-cc86-50dffe253221"
      },
      "execution_count": 34,
      "outputs": [
        {
          "output_type": "error",
          "ename": "KeyError",
          "evalue": "'[1] not found in axis'",
          "traceback": [
            "\u001b[0;31m---------------------------------------------------------------------------\u001b[0m",
            "\u001b[0;31mKeyError\u001b[0m                                  Traceback (most recent call last)",
            "\u001b[0;32m<ipython-input-34-5c38ea494427>\u001b[0m in \u001b[0;36m<cell line: 2>\u001b[0;34m()\u001b[0m\n\u001b[1;32m      1\u001b[0m \u001b[0;31m#dropping a row\u001b[0m\u001b[0;34m\u001b[0m\u001b[0;34m\u001b[0m\u001b[0m\n\u001b[0;32m----> 2\u001b[0;31m \u001b[0mdf\u001b[0m\u001b[0;34m=\u001b[0m\u001b[0mdf\u001b[0m\u001b[0;34m.\u001b[0m\u001b[0mdrop\u001b[0m\u001b[0;34m(\u001b[0m\u001b[0;34m[\u001b[0m\u001b[0;36m1\u001b[0m\u001b[0;34m]\u001b[0m\u001b[0;34m)\u001b[0m\u001b[0;31m#or df=df.drop(index=1)\u001b[0m\u001b[0;34m\u001b[0m\u001b[0;34m\u001b[0m\u001b[0m\n\u001b[0m\u001b[1;32m      3\u001b[0m \u001b[0mprint\u001b[0m\u001b[0;34m(\u001b[0m\u001b[0mdf\u001b[0m\u001b[0;34m)\u001b[0m\u001b[0;34m\u001b[0m\u001b[0;34m\u001b[0m\u001b[0m\n",
            "\u001b[0;32m/usr/local/lib/python3.10/dist-packages/pandas/core/frame.py\u001b[0m in \u001b[0;36mdrop\u001b[0;34m(self, labels, axis, index, columns, level, inplace, errors)\u001b[0m\n\u001b[1;32m   5256\u001b[0m                 \u001b[0mweight\u001b[0m  \u001b[0;36m1.0\u001b[0m     \u001b[0;36m0.8\u001b[0m\u001b[0;34m\u001b[0m\u001b[0;34m\u001b[0m\u001b[0m\n\u001b[1;32m   5257\u001b[0m         \"\"\"\n\u001b[0;32m-> 5258\u001b[0;31m         return super().drop(\n\u001b[0m\u001b[1;32m   5259\u001b[0m             \u001b[0mlabels\u001b[0m\u001b[0;34m=\u001b[0m\u001b[0mlabels\u001b[0m\u001b[0;34m,\u001b[0m\u001b[0;34m\u001b[0m\u001b[0;34m\u001b[0m\u001b[0m\n\u001b[1;32m   5260\u001b[0m             \u001b[0maxis\u001b[0m\u001b[0;34m=\u001b[0m\u001b[0maxis\u001b[0m\u001b[0;34m,\u001b[0m\u001b[0;34m\u001b[0m\u001b[0;34m\u001b[0m\u001b[0m\n",
            "\u001b[0;32m/usr/local/lib/python3.10/dist-packages/pandas/core/generic.py\u001b[0m in \u001b[0;36mdrop\u001b[0;34m(self, labels, axis, index, columns, level, inplace, errors)\u001b[0m\n\u001b[1;32m   4547\u001b[0m         \u001b[0;32mfor\u001b[0m \u001b[0maxis\u001b[0m\u001b[0;34m,\u001b[0m \u001b[0mlabels\u001b[0m \u001b[0;32min\u001b[0m \u001b[0maxes\u001b[0m\u001b[0;34m.\u001b[0m\u001b[0mitems\u001b[0m\u001b[0;34m(\u001b[0m\u001b[0;34m)\u001b[0m\u001b[0;34m:\u001b[0m\u001b[0;34m\u001b[0m\u001b[0;34m\u001b[0m\u001b[0m\n\u001b[1;32m   4548\u001b[0m             \u001b[0;32mif\u001b[0m \u001b[0mlabels\u001b[0m \u001b[0;32mis\u001b[0m \u001b[0;32mnot\u001b[0m \u001b[0;32mNone\u001b[0m\u001b[0;34m:\u001b[0m\u001b[0;34m\u001b[0m\u001b[0;34m\u001b[0m\u001b[0m\n\u001b[0;32m-> 4549\u001b[0;31m                 \u001b[0mobj\u001b[0m \u001b[0;34m=\u001b[0m \u001b[0mobj\u001b[0m\u001b[0;34m.\u001b[0m\u001b[0m_drop_axis\u001b[0m\u001b[0;34m(\u001b[0m\u001b[0mlabels\u001b[0m\u001b[0;34m,\u001b[0m \u001b[0maxis\u001b[0m\u001b[0;34m,\u001b[0m \u001b[0mlevel\u001b[0m\u001b[0;34m=\u001b[0m\u001b[0mlevel\u001b[0m\u001b[0;34m,\u001b[0m \u001b[0merrors\u001b[0m\u001b[0;34m=\u001b[0m\u001b[0merrors\u001b[0m\u001b[0;34m)\u001b[0m\u001b[0;34m\u001b[0m\u001b[0;34m\u001b[0m\u001b[0m\n\u001b[0m\u001b[1;32m   4550\u001b[0m \u001b[0;34m\u001b[0m\u001b[0m\n\u001b[1;32m   4551\u001b[0m         \u001b[0;32mif\u001b[0m \u001b[0minplace\u001b[0m\u001b[0;34m:\u001b[0m\u001b[0;34m\u001b[0m\u001b[0;34m\u001b[0m\u001b[0m\n",
            "\u001b[0;32m/usr/local/lib/python3.10/dist-packages/pandas/core/generic.py\u001b[0m in \u001b[0;36m_drop_axis\u001b[0;34m(self, labels, axis, level, errors, only_slice)\u001b[0m\n\u001b[1;32m   4589\u001b[0m                 \u001b[0mnew_axis\u001b[0m \u001b[0;34m=\u001b[0m \u001b[0maxis\u001b[0m\u001b[0;34m.\u001b[0m\u001b[0mdrop\u001b[0m\u001b[0;34m(\u001b[0m\u001b[0mlabels\u001b[0m\u001b[0;34m,\u001b[0m \u001b[0mlevel\u001b[0m\u001b[0;34m=\u001b[0m\u001b[0mlevel\u001b[0m\u001b[0;34m,\u001b[0m \u001b[0merrors\u001b[0m\u001b[0;34m=\u001b[0m\u001b[0merrors\u001b[0m\u001b[0;34m)\u001b[0m\u001b[0;34m\u001b[0m\u001b[0;34m\u001b[0m\u001b[0m\n\u001b[1;32m   4590\u001b[0m             \u001b[0;32melse\u001b[0m\u001b[0;34m:\u001b[0m\u001b[0;34m\u001b[0m\u001b[0;34m\u001b[0m\u001b[0m\n\u001b[0;32m-> 4591\u001b[0;31m                 \u001b[0mnew_axis\u001b[0m \u001b[0;34m=\u001b[0m \u001b[0maxis\u001b[0m\u001b[0;34m.\u001b[0m\u001b[0mdrop\u001b[0m\u001b[0;34m(\u001b[0m\u001b[0mlabels\u001b[0m\u001b[0;34m,\u001b[0m \u001b[0merrors\u001b[0m\u001b[0;34m=\u001b[0m\u001b[0merrors\u001b[0m\u001b[0;34m)\u001b[0m\u001b[0;34m\u001b[0m\u001b[0;34m\u001b[0m\u001b[0m\n\u001b[0m\u001b[1;32m   4592\u001b[0m             \u001b[0mindexer\u001b[0m \u001b[0;34m=\u001b[0m \u001b[0maxis\u001b[0m\u001b[0;34m.\u001b[0m\u001b[0mget_indexer\u001b[0m\u001b[0;34m(\u001b[0m\u001b[0mnew_axis\u001b[0m\u001b[0;34m)\u001b[0m\u001b[0;34m\u001b[0m\u001b[0;34m\u001b[0m\u001b[0m\n\u001b[1;32m   4593\u001b[0m \u001b[0;34m\u001b[0m\u001b[0m\n",
            "\u001b[0;32m/usr/local/lib/python3.10/dist-packages/pandas/core/indexes/base.py\u001b[0m in \u001b[0;36mdrop\u001b[0;34m(self, labels, errors)\u001b[0m\n\u001b[1;32m   6697\u001b[0m         \u001b[0;32mif\u001b[0m \u001b[0mmask\u001b[0m\u001b[0;34m.\u001b[0m\u001b[0many\u001b[0m\u001b[0;34m(\u001b[0m\u001b[0;34m)\u001b[0m\u001b[0;34m:\u001b[0m\u001b[0;34m\u001b[0m\u001b[0;34m\u001b[0m\u001b[0m\n\u001b[1;32m   6698\u001b[0m             \u001b[0;32mif\u001b[0m \u001b[0merrors\u001b[0m \u001b[0;34m!=\u001b[0m \u001b[0;34m\"ignore\"\u001b[0m\u001b[0;34m:\u001b[0m\u001b[0;34m\u001b[0m\u001b[0;34m\u001b[0m\u001b[0m\n\u001b[0;32m-> 6699\u001b[0;31m                 \u001b[0;32mraise\u001b[0m \u001b[0mKeyError\u001b[0m\u001b[0;34m(\u001b[0m\u001b[0;34mf\"{list(labels[mask])} not found in axis\"\u001b[0m\u001b[0;34m)\u001b[0m\u001b[0;34m\u001b[0m\u001b[0;34m\u001b[0m\u001b[0m\n\u001b[0m\u001b[1;32m   6700\u001b[0m             \u001b[0mindexer\u001b[0m \u001b[0;34m=\u001b[0m \u001b[0mindexer\u001b[0m\u001b[0;34m[\u001b[0m\u001b[0;34m~\u001b[0m\u001b[0mmask\u001b[0m\u001b[0;34m]\u001b[0m\u001b[0;34m\u001b[0m\u001b[0;34m\u001b[0m\u001b[0m\n\u001b[1;32m   6701\u001b[0m         \u001b[0;32mreturn\u001b[0m \u001b[0mself\u001b[0m\u001b[0;34m.\u001b[0m\u001b[0mdelete\u001b[0m\u001b[0;34m(\u001b[0m\u001b[0mindexer\u001b[0m\u001b[0;34m)\u001b[0m\u001b[0;34m\u001b[0m\u001b[0;34m\u001b[0m\u001b[0m\n",
            "\u001b[0;31mKeyError\u001b[0m: '[1] not found in axis'"
          ]
        }
      ]
    },
    {
      "cell_type": "code",
      "source": [
        "df=pd.read_csv(\"sample_data.csv\")\n",
        "print(df)"
      ],
      "metadata": {
        "colab": {
          "base_uri": "https://localhost:8080/"
        },
        "id": "12eNTcGD28g3",
        "outputId": "eb6499b0-25d4-46f4-c7ff-198120ceb906"
      },
      "execution_count": 35,
      "outputs": [
        {
          "output_type": "stream",
          "name": "stdout",
          "text": [
            "             Name  Age         City\n",
            "0        John Doe   28     New York\n",
            "1      Jane Smith   34  Los Angeles\n",
            "2     Emily Davis   22      Chicago\n",
            "3   Michael Brown   45      Houston\n",
            "4  Jessica Wilson   29      Phoenix\n"
          ]
        }
      ]
    },
    {
      "cell_type": "code",
      "source": [
        "# grouping data by coloumn\n",
        "grouped=df.groupby('City')\n",
        "print(grouped)\n",
        "print(grouped['Age'].mean())"
      ],
      "metadata": {
        "id": "E2-mZ1bk3rfT",
        "colab": {
          "base_uri": "https://localhost:8080/"
        },
        "outputId": "d0ddd6fe-2043-4eeb-df47-b299cb333dfd"
      },
      "execution_count": 39,
      "outputs": [
        {
          "output_type": "stream",
          "name": "stdout",
          "text": [
            "<pandas.core.groupby.generic.DataFrameGroupBy object at 0x7b85a30d3c10>\n",
            "City\n",
            "Chicago        22.0\n",
            "Houston        45.0\n",
            "Los Angeles    34.0\n",
            "New York       28.0\n",
            "Phoenix        29.0\n",
            "Name: Age, dtype: float64\n"
          ]
        }
      ]
    },
    {
      "cell_type": "code",
      "source": [
        "# aggregating the  data\n",
        "aggregated=df.groupby('City').agg({'Age':['mean','min','max']})\n",
        "print(aggregated)"
      ],
      "metadata": {
        "colab": {
          "base_uri": "https://localhost:8080/"
        },
        "id": "zsE7oz40511p",
        "outputId": "d78f98d9-a6cb-4487-b440-a7102f105e22"
      },
      "execution_count": 43,
      "outputs": [
        {
          "output_type": "stream",
          "name": "stdout",
          "text": [
            "              Age        \n",
            "             mean min max\n",
            "City                     \n",
            "Chicago      22.0  22  22\n",
            "Houston      45.0  45  45\n",
            "Los Angeles  34.0  34  34\n",
            "New York     28.0  28  28\n",
            "Phoenix      29.0  29  29\n"
          ]
        }
      ]
    },
    {
      "cell_type": "code",
      "source": [
        "# Merging the two dataframe\n",
        "df1=pd.DataFrame({'ID':[1,2,3,4],'Name':['Nihal','John','Alon','tom']})\n",
        "df2=pd.DataFrame({'ID':[1,2,3,5],'City':['New York','Los Angeles','Chicago','Houston']})\n",
        "merged_data=pd.merge(df1,df2,on='ID',how='inner')#the inner joins only the common part while outer joins all\n",
        "print(merged_data)"
      ],
      "metadata": {
        "colab": {
          "base_uri": "https://localhost:8080/"
        },
        "id": "lqI7rSxA7llZ",
        "outputId": "78beef63-ddd6-4d4f-9098-31e894d0d434"
      },
      "execution_count": 48,
      "outputs": [
        {
          "output_type": "stream",
          "name": "stdout",
          "text": [
            "   ID   Name         City\n",
            "0   1  Nihal     New York\n",
            "1   2   John  Los Angeles\n",
            "2   3   Alon      Chicago\n"
          ]
        }
      ]
    },
    {
      "cell_type": "code",
      "source": [
        "# joinning the two dataframes\n",
        "frame1=pd.DataFrame({'ID':[1,2,3,4],'Name':['Nihal','John','Alon','tom']},index=[0,1,2,3])\n",
        "frame2=pd.DataFrame({'City':['New York','Los Angeles','Chicago','Houston']},index=[0,1,2,4])\n",
        "joined_data=frame1.join(frame2,how='left')\n",
        "print(joined_data)"
      ],
      "metadata": {
        "colab": {
          "base_uri": "https://localhost:8080/"
        },
        "id": "B6NkObu--9u4",
        "outputId": "f722199a-fc9d-4462-bd66-e29bdc877f81"
      },
      "execution_count": 59,
      "outputs": [
        {
          "output_type": "stream",
          "name": "stdout",
          "text": [
            "   ID   Name         City\n",
            "0   1  Nihal     New York\n",
            "1   2   John  Los Angeles\n",
            "2   3   Alon      Chicago\n",
            "3   4    tom          NaN\n"
          ]
        }
      ]
    },
    {
      "cell_type": "code",
      "source": [],
      "metadata": {
        "id": "JxKNanFv-9Vu"
      },
      "execution_count": null,
      "outputs": []
    }
  ]
}