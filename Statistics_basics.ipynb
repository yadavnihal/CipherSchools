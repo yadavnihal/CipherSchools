{
  "nbformat": 4,
  "nbformat_minor": 0,
  "metadata": {
    "colab": {
      "provenance": []
    },
    "kernelspec": {
      "name": "python3",
      "display_name": "Python 3"
    },
    "language_info": {
      "name": "python"
    }
  },
  "cells": [
    {
      "cell_type": "code",
      "execution_count": 11,
      "metadata": {
        "colab": {
          "base_uri": "https://localhost:8080/"
        },
        "id": "zaTikMy-afZC",
        "outputId": "d8338c8a-c4c6-4074-fd6e-6247dc5bedc1"
      },
      "outputs": [
        {
          "output_type": "stream",
          "name": "stdout",
          "text": [
            "   age  salary\n",
            "0   18   27000\n",
            "1   21   40000\n",
            "2   22   29000\n",
            "3   24   31000\n",
            "4   24   45000\n",
            "5   39   31000\n",
            "6   36   25000\n",
            "the mean of employee ages: 26.285714285714285\n",
            "the mean of employee salaries: 32571.428571428572\n"
          ]
        }
      ],
      "source": [
        "import pandas as pd\n",
        "data={\n",
        "    \"age\": [18,21,22,24,24,39,36],\n",
        "    \"salary\":[27000,40000,29000,31000,45000,31000,25000]\n",
        "}\n",
        "df=pd.DataFrame(data)\n",
        "print(df)\n",
        "print(\"the mean of employee ages:\",df[\"age\"].mean())\n",
        "print(\"the mean of employee salaries:\",df[\"salary\"].mean())"
      ]
    },
    {
      "cell_type": "code",
      "source": [
        "median_age=df[\"age\"].median()\n",
        "print(\"the median of employee ages:\",median_age)\n",
        "median_salary=df[\"salary\"].median()\n",
        "print(\"the median of employee salaries:\",median_salary)"
      ],
      "metadata": {
        "colab": {
          "base_uri": "https://localhost:8080/"
        },
        "id": "Iv3oXNTwQxr6",
        "outputId": "1c9669bd-04cb-4e0e-a8c9-7ea77e338361"
      },
      "execution_count": 12,
      "outputs": [
        {
          "output_type": "stream",
          "name": "stdout",
          "text": [
            "the median of employee ages: 24.0\n",
            "the median of employee salaries: 31000.0\n"
          ]
        }
      ]
    },
    {
      "cell_type": "code",
      "source": [
        "mode_age=df[\"age\"].mode()[0]\n",
        "print(\"the mode of employee ages:\",mode_age)\n",
        "mode_salary=df[\"salary\"].mode()[0]\n",
        "print(\"the mode of employee salaries:\",mode_salary)\n",
        "# when the dataset has mutiple modes than the data is called as multimodal"
      ],
      "metadata": {
        "colab": {
          "base_uri": "https://localhost:8080/"
        },
        "id": "WOI4r4xPUHIS",
        "outputId": "d7ad6d44-6a3b-4661-ef90-bc29605eb426"
      },
      "execution_count": 16,
      "outputs": [
        {
          "output_type": "stream",
          "name": "stdout",
          "text": [
            "the mode of employee ages: 24\n",
            "the mode of employee salaries: 31000\n"
          ]
        }
      ]
    },
    {
      "cell_type": "code",
      "source": [
        "# Standard deviation is a measure of how spread out the values in a dataset are.\n",
        "#  It is calculated as the square root of the variance.\n",
        "#  The .std() method in pandas can be used to calculate the standard deviation of a column.\n",
        "# standard deviation measures the amount of variation or dispersion in a set of values\n",
        "# it shows how much the amount is differ from the mean\n",
        "# it is used to find the risk or volatility in finance for investment"
      ],
      "metadata": {
        "id": "1_fVnvtHXU8K"
      },
      "execution_count": null,
      "outputs": []
    },
    {
      "cell_type": "code",
      "source": [
        "std_age=df[\"age\"].std()\n",
        "print(\"the standard deviation of employee ages:\",std_age)\n",
        "std_salary=df[\"salary\"].std()\n",
        "print(\"the standard deviation of employee salaries:\",std_salary)"
      ],
      "metadata": {
        "colab": {
          "base_uri": "https://localhost:8080/"
        },
        "id": "Ei36CI1nYUUJ",
        "outputId": "d9d839f1-d579-4008-f6c6-c17a6fa9ce58"
      },
      "execution_count": 18,
      "outputs": [
        {
          "output_type": "stream",
          "name": "stdout",
          "text": [
            "the standard deviation of employee ages: 7.973169292786187\n",
            "the standard deviation of employee salaries: 7253.898787483019\n"
          ]
        }
      ]
    },
    {
      "cell_type": "code",
      "source": [
        "# Variance measures how spread out the values are from the mean.\n",
        "# A high variance indicates that the values are more spread out.\n",
        "# A low variance indicates that the values are more clustered around the mean.\n",
        "var_age=df[\"age\"].var()\n",
        "print(\"the variance of employee ages:\",var_age)\n",
        "var_salary=df[\"salary\"].var()\n",
        "print(\"the variance of employee salaries:\",var_salary)\n"
      ],
      "metadata": {
        "colab": {
          "base_uri": "https://localhost:8080/"
        },
        "id": "u9rXF-TKe4-U",
        "outputId": "e31af4e8-cad0-46b9-ee89-02320d61d4a6"
      },
      "execution_count": 19,
      "outputs": [
        {
          "output_type": "stream",
          "name": "stdout",
          "text": [
            "the variance of employee ages: 63.57142857142858\n",
            "the variance of employee salaries: 52619047.61904761\n"
          ]
        }
      ]
    },
    {
      "cell_type": "code",
      "source": [
        "# Normal distribution\n",
        "# it is a continous probability distribution that is symmetrical around the mean.\n",
        "# also known as gaussian distribution\n"
      ],
      "metadata": {
        "id": "gny3F_VkfQmk"
      },
      "execution_count": null,
      "outputs": []
    },
    {
      "cell_type": "code",
      "source": [
        "import numpy as np\n",
        "import matplotlib.pyplot as plt\n",
        "# normal distribution\n",
        "mu,sigma=0,0.1\n",
        "s=np.random.normal(mu,sigma,1000)\n",
        "\n",
        "\n",
        "# plotting the histrogram\n",
        "# 1/(sigma*np.sqrt(2*np.pi))*np.exp(-(bins-mu)**2/(2*sigma**2)) is a formula of normal distribution\n",
        "count,bins,ignored=plt.hist(s,30,density=True)\n",
        "plt.plot(bins,1/(sigma*np.sqrt(2*np.pi))*np.exp(-(bins-mu)**2/(2*sigma**2)),linewidth=2,color='r')\n",
        "plt.title(\"Normal Distribution\")\n",
        "plt.xlabel(\"Bins\")\n",
        "plt.ylabel(\"Probability\")\n",
        "plt.show()"
      ],
      "metadata": {
        "colab": {
          "base_uri": "https://localhost:8080/",
          "height": 472
        },
        "id": "g1AqPjrnfQjI",
        "outputId": "e6589018-0dbf-499c-ed54-0f3fef713a41"
      },
      "execution_count": 24,
      "outputs": [
        {
          "output_type": "display_data",
          "data": {
            "text/plain": [
              "<Figure size 640x480 with 1 Axes>"
            ],
            "image/png": "[encoded data removed]"
          },
          "metadata": {}
        }
      ]
    },
    {
      "cell_type": "markdown",
      "source": [],
      "metadata": {
        "id": "G6JmDreHYVHV"
      }
    },
    {
      "cell_type": "code",
      "source": [
        "# binomial distribution\n",
        "# it is a discrete probability distribution that models the number of successes in a fixed number of independent Bernoulli trials.\n",
        "# used in quality control to model the no. of defective items in a batch of items\n",
        "n,p=10,0.5\n",
        "binomial=np.random.binomial(n,p,1000)\n",
        "\n",
        "# plotting the histogram\n",
        "plt.hist(binomial,bins=10,density=True,alpha=0.6,color=\"b\")\n",
        "plt.title(\"Binomial Distribution\")\n",
        "plt.xlabel(\"Bins\")\n",
        "plt.ylabel(\"Probability\")\n",
        "plt.show()"
      ],
      "metadata": {
        "colab": {
          "base_uri": "https://localhost:8080/",
          "height": 472
        },
        "id": "0Li-BO9ki__b",
        "outputId": "84ff625d-3212-4b11-cf67-c14486a42d03"
      },
      "execution_count": 25,
      "outputs": [
        {
          "output_type": "display_data",
          "data": {
            "text/plain": [
              "<Figure size 640x480 with 1 Axes>"
            ],
            "image/png": "[encoded data removed]"
          },
          "metadata": {}
        }
      ]
    },
    {
      "cell_type": "code",
      "source": [
        "# Quartiles divide a dataset into four equal parts:\n",
        "# - The first quartile (Q1) is the median of the lower half of the dataset.\n",
        "# - The second quartile (Q2) is the median of the dataset.\n",
        "# - The third quartile (Q3) is the median of the upper half of the dataset.\n",
        "# Fourth Quartile (Q4): The range from the third quartile to the maximum value (100th percentile).\n",
        "\n",
        "\n",
        "# Calculating quartiles\n",
        "data=[1,2,3,4,5,6,7,8,9,10]\n",
        "\n",
        "Q1=np.percentile(data,25)\n",
        "Q2=np.median(data)\n",
        "Q3=np.percentile(data,75)\n",
        "IQR=Q3-Q1\n",
        "\n",
        "print(\"Q1:\",Q1)\n",
        "print(\"Q2:\",Q2)#it is the median\n",
        "print(\"Q3:\",Q3)\n",
        "print(\"IQR:\",IQR)\n"
      ],
      "metadata": {
        "colab": {
          "base_uri": "https://localhost:8080/"
        },
        "id": "kTet7CdBloY8",
        "outputId": "bf5740e7-b616-4760-a8da-87b99c287833"
      },
      "execution_count": 30,
      "outputs": [
        {
          "output_type": "stream",
          "name": "stdout",
          "text": [
            "Q1: 3.25\n",
            "Q2: 5.5\n",
            "Q3: 7.75\n",
            "IQR: 4.5\n"
          ]
        }
      ]
    },
    {
      "cell_type": "code",
      "source": [
        "# Z-SCORES\n",
        "# Z-scores (or standard scores) indicate how many standard deviations an element is from the mean.\n",
        "#  A Z-score is calculated by subtracting the mean of the dataset from the value of the element and then dividing by the standard deviation.\n",
        "\n",
        "# Here's the formula for calculating a Z-score: 𝑍=(𝑋−𝜇)/𝜎\n",
        "\n",
        "'''\n",
        "where\n",
        "𝑋\n",
        "X is the value,\n",
        "𝜇\n",
        "μ is the mean, and\n",
        "𝜎\n",
        "σ is the standard deviation.'''"
      ],
      "metadata": {
        "id": "AeSQ-2hSoB1k"
      },
      "execution_count": null,
      "outputs": []
    },
    {
      "cell_type": "code",
      "source": [
        "# A positive Z-score indicates that the data point is above the mean.\n",
        "# A negative Z-score indicates that the data point is below the mean.\n",
        "# If (Z = 0), the data point is exactly at the mean.\n",
        "\n",
        "\n",
        "import numpy as np\n",
        "data = np.array([1, 2, 3, 4, 5, 6, 7, 8, 9, 10])\n",
        "mean = np.mean(data)\n",
        "std = np.std(data)\n",
        "z_scores =[ (x - mean) / std for x in data]\n",
        "print(z_scores)"
      ],
      "metadata": {
        "colab": {
          "base_uri": "https://localhost:8080/"
        },
        "id": "mFN7tIOxp2Uf",
        "outputId": "f9aaa727-9ca0-4e38-b622-072f208fbe16"
      },
      "execution_count": 33,
      "outputs": [
        {
          "output_type": "stream",
          "name": "stdout",
          "text": [
            "[-1.5666989036012806, -1.2185435916898848, -0.8703882797784892, -0.5222329678670935, -0.17407765595569785, 0.17407765595569785, 0.5222329678670935, 0.8703882797784892, 1.2185435916898848, 1.5666989036012806]\n"
          ]
        }
      ]
    }
  ]
}