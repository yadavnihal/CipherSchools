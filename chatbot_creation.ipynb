{
  "nbformat": 4,
  "nbformat_minor": 0,
  "metadata": {
    "colab": {
      "provenance": []
    },
    "kernelspec": {
      "name": "python3",
      "display_name": "Python 3"
    },
    "language_info": {
      "name": "python"
    }
  },
  "cells": [
    {
      "cell_type": "markdown",
      "source": [
        "# Preprocessing the text data\n",
        "before training a chatbot, we need to preprocesses the text data by tokenizing the text,removing stopwords and applying stemming or lemmetization\n"
      ],
      "metadata": {
        "id": "A2Uf3WLiSlpi"
      }
    },
    {
      "cell_type": "code",
      "source": [
        "import pandas as pd\n",
        "import nltk\n",
        "# load the dataset\n",
        "data=pd.read_csv(\"chatbot_dataset.csv\")\n",
        "\n",
        "#preprocessing the data\n",
        "nltk.download(\"punkt\")\n",
        "data[\"Question\"]=data[\"Question\"].apply(lambda x: \" \".join(nltk.word_tokenize(x.lower())))#joining the tokens of data with single space\n",
        "print(data.head())\n"
      ],
      "metadata": {
        "colab": {
          "base_uri": "https://localhost:8080/"
        },
        "id": "nQmEoe66SyOT",
        "outputId": "0214b789-75df-4f83-a1a9-f5b8d8f30314"
      },
      "execution_count": 2,
      "outputs": [
        {
          "output_type": "stream",
          "name": "stdout",
          "text": [
            "                                      Question  \\\n",
            "0                   Introduction to the course   \n",
            "1  Overview of data science and its importance   \n",
            "2    Introduction to the data science workflow   \n",
            "3         Key skills and tools in data science   \n",
            "4           Where can I find my course videos?   \n",
            "\n",
            "                                              Answer  \n",
            "0  Welcome to the data science course. Here you w...  \n",
            "1  Data science is crucial for making informed de...  \n",
            "2  The data science workflow includes data collec...  \n",
            "3  Important skills include programming, statisti...  \n",
            "4  You can find all your course videos on the Cip...  \n",
            "                                      Question  \\\n",
            "0                   introduction to the course   \n",
            "1  overview of data science and its importance   \n",
            "2    introduction to the data science workflow   \n",
            "3         key skills and tools in data science   \n",
            "4          where can i find my course videos ?   \n",
            "\n",
            "                                              Answer  \n",
            "0  Welcome to the data science course. Here you w...  \n",
            "1  Data science is crucial for making informed de...  \n",
            "2  The data science workflow includes data collec...  \n",
            "3  Important skills include programming, statisti...  \n",
            "4  You can find all your course videos on the Cip...  \n"
          ]
        },
        {
          "output_type": "stream",
          "name": "stderr",
          "text": [
            "[nltk_data] Downloading package punkt to /root/nltk_data...\n",
            "[nltk_data]   Package punkt is already up-to-date!\n"
          ]
        }
      ]
    },
    {
      "cell_type": "markdown",
      "source": [
        "## Vectorizing the text data\n",
        "\n",
        " we convertthe text data into numerical values using TF-IDF(term frequency-inverse document frequency) vectorization"
      ],
      "metadata": {
        "id": "6QX79GiUVhxR"
      }
    },
    {
      "cell_type": "code",
      "source": [
        "from sklearn.feature_extraction.text import TfidfVectorizer\n",
        "\n",
        "vectorizer=TfidfVectorizer()\n",
        "X=vectorizer.fit_transform(data[\"Question\"])\n",
        "print(X.shape)\n"
      ],
      "metadata": {
        "colab": {
          "base_uri": "https://localhost:8080/"
        },
        "id": "q_QYqCZ9WIel",
        "outputId": "c617e031-2be5-4bd0-b8be-d030b9d6244d"
      },
      "execution_count": 5,
      "outputs": [
        {
          "output_type": "stream",
          "name": "stdout",
          "text": [
            "(48, 112)\n"
          ]
        }
      ]
    },
    {
      "cell_type": "markdown",
      "source": [
        "## Training a text classification model\n",
        "\n",
        "We use the Naive Bayes classifier to train the model on the vectorized Data"
      ],
      "metadata": {
        "id": "DPZbfordWq0A"
      }
    },
    {
      "cell_type": "code",
      "source": [
        "from sklearn.naive_bayes import MultinomialNB\n",
        "from sklearn.pipeline import make_pipeline\n",
        "from sklearn.model_selection import train_test_split\n",
        "\n",
        "#split the data into train_test sets\n",
        "X_train,X_test,y_train,y_test=train_test_split(data[\"Question\"],data[\"Answer\"],test_size=0.2,random_state=42)\n",
        "\n",
        "#creating a model pipeline\n",
        "model=make_pipeline(TfidfVectorizer(),MultinomialNB())\n",
        "\n",
        "# train the data\n",
        "model.fit(X_train,y_train)\n",
        "print(\"Model training complete\")\n",
        "\n"
      ],
      "metadata": {
        "colab": {
          "base_uri": "https://localhost:8080/"
        },
        "id": "INIe-de5Ydml",
        "outputId": "48bd9736-a2b3-4e77-d333-583db44c2927"
      },
      "execution_count": 24,
      "outputs": [
        {
          "output_type": "stream",
          "name": "stdout",
          "text": [
            "Model training complete\n"
          ]
        }
      ]
    },
    {
      "cell_type": "markdown",
      "source": [
        "## Implementing a function to get chatbot response"
      ],
      "metadata": {
        "id": "R0qfOBNDayDp"
      }
    },
    {
      "cell_type": "code",
      "source": [
        "def getresponse(question):\n",
        "  question=\" \".join(nltk.word_tokenize(question.lower()))\n",
        "  answer=model.predict([question])[0]\n",
        "  return answer\n",
        "\n",
        "\n",
        "# testing the function\n",
        "print(getresponse(\"what is nlp\"))"
      ],
      "metadata": {
        "colab": {
          "base_uri": "https://localhost:8080/"
        },
        "id": "7-KWNC6zbBuW",
        "outputId": "09d1dfc2-068f-4a66-b657-6d984a573c49"
      },
      "execution_count": 27,
      "outputs": [
        {
          "output_type": "stream",
          "name": "stdout",
          "text": [
            "Seaborn is a Python visualization library based on Matplotlib that provides a high-level interface for drawing attractive statistical graphics. This is covered in the Introduction to Matplotlib and Seaborn module.\n"
          ]
        }
      ]
    }
  ]
}