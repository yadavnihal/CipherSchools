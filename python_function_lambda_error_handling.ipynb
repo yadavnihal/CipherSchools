{
  "nbformat": 4,
  "nbformat_minor": 0,
  "metadata": {
    "colab": {
      "provenance": []
    },
    "kernelspec": {
      "name": "python3",
      "display_name": "Python 3"
    },
    "language_info": {
      "name": "python"
    }
  },
  "cells": [
    {
      "cell_type": "code",
      "execution_count": 1,
      "metadata": {
        "colab": {
          "base_uri": "https://localhost:8080/"
        },
        "id": "USR0PjQYDkH6",
        "outputId": "9f845fe3-48f6-4f71-f1b7-4559aaaa2b26"
      },
      "outputs": [
        {
          "output_type": "stream",
          "name": "stdout",
          "text": [
            "18\n"
          ]
        }
      ],
      "source": [
        "def sum_all(*args):\n",
        "  return sum(args)\n",
        "print(sum_all(2,4,5,7))"
      ]
    },
    {
      "cell_type": "code",
      "source": [
        "def display_info(**kwargs):\n",
        "  for key,value in kwargs.items():\n",
        "    print(f\"{key}:{value}\")\n",
        "\n",
        "display_info(name=\"nihal\",age=\"19\",city=\"ballia\")"
      ],
      "metadata": {
        "colab": {
          "base_uri": "https://localhost:8080/"
        },
        "id": "D2rkr7xWEV6x",
        "outputId": "501bec8d-ef4c-44b5-c2a6-168dbe38fa6b"
      },
      "execution_count": 4,
      "outputs": [
        {
          "output_type": "stream",
          "name": "stdout",
          "text": [
            "name:nihal\n",
            "age:19\n",
            "city:ballia\n"
          ]
        }
      ]
    },
    {
      "cell_type": "code",
      "source": [
        "#Higher -Order Function\n",
        "def apply_function(func,x,y):\n",
        "  return func(x,y)\n",
        "\n",
        "def multiply(a,b):\n",
        "  return a*b\n",
        "\n",
        "print(apply_function(multiply,6,7))"
      ],
      "metadata": {
        "colab": {
          "base_uri": "https://localhost:8080/"
        },
        "id": "Ts7dmTxDFva8",
        "outputId": "97303c80-661a-4544-e42f-041064d6ee30"
      },
      "execution_count": 5,
      "outputs": [
        {
          "output_type": "stream",
          "name": "stdout",
          "text": [
            "42\n"
          ]
        }
      ]
    },
    {
      "cell_type": "code",
      "source": [
        "#Simple Lambda Function\n",
        "square = lambda x: x*x\n",
        "\n",
        "print(square(5))\n"
      ],
      "metadata": {
        "colab": {
          "base_uri": "https://localhost:8080/"
        },
        "id": "hqwmd1B1Gl3h",
        "outputId": "9af8b7be-cbf3-40e8-952b-e4bf732fd9c9"
      },
      "execution_count": 9,
      "outputs": [
        {
          "output_type": "stream",
          "name": "stdout",
          "text": [
            "25\n"
          ]
        }
      ]
    },
    {
      "cell_type": "code",
      "source": [
        "#Lambda function in map\n",
        "numbers = [1,2,3,4,5]\n",
        "squares = list(map(lambda x:x*x,numbers))\n",
        "print(squares)"
      ],
      "metadata": {
        "colab": {
          "base_uri": "https://localhost:8080/"
        },
        "id": "XqOL3zViHjQ0",
        "outputId": "8e9379c3-d75d-42dd-8b83-49d001bc5cfa"
      },
      "execution_count": 10,
      "outputs": [
        {
          "output_type": "stream",
          "name": "stdout",
          "text": [
            "[1, 4, 9, 16, 25]\n"
          ]
        }
      ]
    },
    {
      "cell_type": "code",
      "source": [
        "#lambda function in filter\n",
        "numbers = [1, 2, 3, 4, 5, 6, 7, 8, 9, 10]\n",
        "result = filter(lambda x: x % 2 != 0, numbers)\n",
        "print(list(result))\n"
      ],
      "metadata": {
        "colab": {
          "base_uri": "https://localhost:8080/"
        },
        "id": "nDvET5VCIO1z",
        "outputId": "1351e106-7401-4285-c07c-219f4599f49d"
      },
      "execution_count": 12,
      "outputs": [
        {
          "output_type": "stream",
          "name": "stdout",
          "text": [
            "[1, 3, 5, 7, 9]\n"
          ]
        }
      ]
    },
    {
      "cell_type": "code",
      "source": [
        "#lambda in sorted\n",
        "people = [(\"Alice\", 30), (\"Bob\", 25), (\"Charlie\", 35), (\"Diana\", 28)]\n",
        "sorted_people = sorted(people, key=lambda x: x[1])\n",
        "print(sorted_people)\n"
      ],
      "metadata": {
        "colab": {
          "base_uri": "https://localhost:8080/"
        },
        "id": "7VrpmeebKeYJ",
        "outputId": "426b458e-8639-4c65-e1a3-f9bd3b38c58f"
      },
      "execution_count": 13,
      "outputs": [
        {
          "output_type": "stream",
          "name": "stdout",
          "text": [
            "[('Bob', 25), ('Diana', 28), ('Alice', 30), ('Charlie', 35)]\n"
          ]
        }
      ]
    },
    {
      "cell_type": "code",
      "source": [
        "#Error handling\n",
        "try:\n",
        "  res=10/0\n",
        "  print(res)\n",
        "except ZeroDivisionError:\n",
        "  print(\"cant divide by zero\")\n"
      ],
      "metadata": {
        "colab": {
          "base_uri": "https://localhost:8080/"
        },
        "id": "yHTOdT1_Lepj",
        "outputId": "70f54ca2-0d7c-4e22-e9f9-b8b72b0823dd"
      },
      "execution_count": 19,
      "outputs": [
        {
          "output_type": "stream",
          "name": "stdout",
          "text": [
            "cant divide by zero\n"
          ]
        }
      ]
    },
    {
      "cell_type": "code",
      "source": [
        "#try-except-else\n",
        "try:\n",
        "    # Trying to divide two numbers\n",
        "    numerator = 10\n",
        "    denominator = 0\n",
        "    result = numerator / denominator\n",
        "except ZeroDivisionError:\n",
        "    # This block runs if a ZeroDivisionError occurs\n",
        "    print(\"Error: Cannot divide by zero.\")\n",
        "else:\n",
        "    # This block runs if no exceptions occur\n",
        "    print(\"The result is:\", result)\n"
      ],
      "metadata": {
        "colab": {
          "base_uri": "https://localhost:8080/"
        },
        "id": "uWIfTA17MXUx",
        "outputId": "6c10d50f-f6f9-45cf-a408-5af0bd8def04"
      },
      "execution_count": 21,
      "outputs": [
        {
          "output_type": "stream",
          "name": "stdout",
          "text": [
            "Error: Cannot divide by zero.\n"
          ]
        }
      ]
    },
    {
      "cell_type": "code",
      "source": [
        "# try-except-finally\n",
        "try:\n",
        "    numerator = 10\n",
        "    denominator = 0\n",
        "    result = numerator / denominator\n",
        "except ZeroDivisionError:\n",
        "    print(\"Error: Cannot divide by zero.\")\n",
        "finally:\n",
        "    print(\"This code runs no matter what.\")\n"
      ],
      "metadata": {
        "colab": {
          "base_uri": "https://localhost:8080/"
        },
        "id": "PhU4ODtiMrPn",
        "outputId": "9929191a-3a0e-49cc-ead0-72538859ce50"
      },
      "execution_count": 22,
      "outputs": [
        {
          "output_type": "stream",
          "name": "stdout",
          "text": [
            "Error: Cannot divide by zero.\n",
            "This code runs no matter what.\n"
          ]
        }
      ]
    },
    {
      "cell_type": "code",
      "source": [
        "# raising exception\n",
        "def check_positive(number):\n",
        "  if number<=0:\n",
        "    raise ValueError(\"Number must be positive\")\n",
        "try:\n",
        "  check_positive(-5)\n",
        "except ValueError as e:\n",
        "  print(e)"
      ],
      "metadata": {
        "id": "PvJiHwajNHqv"
      },
      "execution_count": null,
      "outputs": []
    }
  ]
}